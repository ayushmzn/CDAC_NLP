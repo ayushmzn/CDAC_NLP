{
 "cells": [
  {
   "cell_type": "code",
   "execution_count": 1,
   "id": "40393996",
   "metadata": {},
   "outputs": [],
   "source": [
    "import nltk\n",
    "from nltk.stem import WordNetLemmatizer\n",
    "import pandas as pd\n",
    "from nltk.corpus import stopwords\n",
    "pd.set_option('display.max_rows',200)"
   ]
  },
  {
   "cell_type": "code",
   "execution_count": 2,
   "id": "93ed13cd",
   "metadata": {},
   "outputs": [],
   "source": [
    "para = \"\"\"Every part of an essay is important, but the first paragraph is vital.\n",
    "This is the first chance you have to impress – or depress – an examiner, and first impressions are often decisive.\n",
    "You might therefore try to write an eye-catching first sentence.\n",
    "(‘Start with an earthquake and work up to a climax,’ counselled the film-maker Cecil B. De Mille.)\n",
    "More important is that you demonstrate your understanding of the question set. \n",
    "Here you give your carefully thought out definitions of the key terms, \n",
    "and here you establish the relevant time-frame and issues – in other words, \n",
    "the parameters of the question. Also, you divide the overall question into more manageable sub-divisions,\n",
    "or smaller questions, on each of which you will subsequently write a paragraph. \n",
    "You formulate an argument, or perhaps voice alternative lines of argument, \n",
    "that you will substantiate later in the essay. Hence the first paragraph – \n",
    "or perhaps you might spread this opening section over two paragraphs – is the key to a good essay.\"\"\""
   ]
  },
  {
   "cell_type": "code",
   "execution_count": 3,
   "id": "de1f0a25",
   "metadata": {},
   "outputs": [
    {
     "name": "stdout",
     "output_type": "stream",
     "text": [
      "1 - Every part of an essay is important, but the first paragraph is vital.\n",
      "2 - This is the first chance you have to impress – or depress – an examiner, and first impressions are often decisive.\n",
      "3 - You might therefore try to write an eye-catching first sentence.\n",
      "4 - (‘Start with an earthquake and work up to a climax,’ counselled the film-maker Cecil B.\n",
      "5 - De Mille.)\n",
      "6 - More important is that you demonstrate your understanding of the question set.\n",
      "7 - Here you give your carefully thought out definitions of the key terms, \n",
      "and here you establish the relevant time-frame and issues – in other words, \n",
      "the parameters of the question.\n",
      "8 - Also, you divide the overall question into more manageable sub-divisions,\n",
      "or smaller questions, on each of which you will subsequently write a paragraph.\n",
      "9 - You formulate an argument, or perhaps voice alternative lines of argument, \n",
      "that you will substantiate later in the essay.\n",
      "10 - Hence the first paragraph – \n",
      "or perhaps you might spread this opening section over two paragraphs – is the key to a good essay.\n"
     ]
    }
   ],
   "source": [
    "sentences = nltk.sent_tokenize(para)\n",
    "flag = 0\n",
    "for i in sentences:\n",
    "    flag+=1\n",
    "    print(flag, '-',i)"
   ]
  },
  {
   "cell_type": "code",
   "execution_count": 4,
   "id": "fa2bd92b",
   "metadata": {},
   "outputs": [],
   "source": [
    "lemmatizer = WordNetLemmatizer()\n",
    "for i in range(len(sentences)):\n",
    "    word = nltk.word_tokenize(sentences[i])\n",
    "    word = [lemmatizer.lemmatize(w) for w in word if w not in stopwords.words('english')]\n",
    "    sentences[i] = ' '.join(word)   "
   ]
  },
  {
   "cell_type": "code",
   "execution_count": 5,
   "id": "54a2fbff",
   "metadata": {},
   "outputs": [
    {
     "name": "stdout",
     "output_type": "stream",
     "text": [
      "sentences after performing lemmatization\n",
      "1 - Every part essay important , first paragraph vital .\n",
      "2 - This first chance impress – depress – examiner , first impression often decisive .\n",
      "3 - You might therefore try write eye-catching first sentence .\n",
      "4 - ( ‘ Start earthquake work climax , ’ counselled film-maker Cecil B .\n",
      "5 - De Mille . )\n",
      "6 - More important demonstrate understanding question set .\n",
      "7 - Here give carefully thought definition key term , establish relevant time-frame issue – word , parameter question .\n",
      "8 - Also , divide overall question manageable sub-divisions , smaller question , subsequently write paragraph .\n",
      "9 - You formulate argument , perhaps voice alternative line argument , substantiate later essay .\n",
      "10 - Hence first paragraph – perhaps might spread opening section two paragraph – key good essay .\n"
     ]
    }
   ],
   "source": [
    "print('sentences after performing lemmatization')\n",
    "flag = 0\n",
    "for i in sentences:\n",
    "    flag+=1\n",
    "    print(flag, '-',i)\n"
   ]
  },
  {
   "cell_type": "code",
   "execution_count": null,
   "id": "24964b53",
   "metadata": {},
   "outputs": [],
   "source": []
  }
 ],
 "metadata": {
  "kernelspec": {
   "display_name": "Python 3 (ipykernel)",
   "language": "python",
   "name": "python3"
  },
  "language_info": {
   "codemirror_mode": {
    "name": "ipython",
    "version": 3
   },
   "file_extension": ".py",
   "mimetype": "text/x-python",
   "name": "python",
   "nbconvert_exporter": "python",
   "pygments_lexer": "ipython3",
   "version": "3.9.7"
  }
 },
 "nbformat": 4,
 "nbformat_minor": 5
}
